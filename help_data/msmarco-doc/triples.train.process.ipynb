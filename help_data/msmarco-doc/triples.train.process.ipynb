{
 "cells": [
  {
   "cell_type": "code",
   "execution_count": null,
   "metadata": {
    "_cell_guid": "b1076dfc-b9ad-4769-8c92-a6c4dae69d19",
    "_uuid": "8f2839f25d086af736a60e9eeb907d3b93b6e0e5",
    "execution": {
     "iopub.execute_input": "2021-10-18T23:50:10.618144Z",
     "iopub.status.busy": "2021-10-18T23:50:10.617854Z",
     "iopub.status.idle": "2021-10-18T23:50:10.626207Z",
     "shell.execute_reply": "2021-10-18T23:50:10.625559Z",
     "shell.execute_reply.started": "2021-10-18T23:50:10.618112Z"
    }
   },
   "outputs": [],
   "source": [
    "# This Python 3 environment comes with many helpful analytics libraries installed\n",
    "# It is defined by the kaggle/python Docker image: https://github.com/kaggle/docker-python\n",
    "# For example, here's several helpful packages to load\n",
    "\n",
    "import numpy as np # linear algebra\n",
    "import pandas as pd # data processing, CSV file I/O (e.g. pd.read_csv)\n",
    "\n",
    "# Input data files are available in the read-only \"../input/\" directory\n",
    "# For example, running this (by clicking run or pressing Shift+Enter) will list all files under the input directory\n",
    "\n",
    "# import os\n",
    "# for dirname, _, filenames in os.walk('/kaggle/input'):\n",
    "#     for filename in filenames:\n",
    "#         print(os.path.join(dirname, filename))\n",
    "\n",
    "# You can write up to 20GB to the current directory (/kaggle/working/) that gets preserved as output when you create a version using \"Save & Run All\" \n",
    "# You can also write temporary files to /kaggle/temp/, but they won't be saved outside of the current session"
   ]
  },
  {
   "cell_type": "code",
   "execution_count": null,
   "metadata": {},
   "outputs": [],
   "source": [
    "#### draft\n",
    "## check\n",
    "df = pd.read_csv(r'C:\\Users\\qhuca\\Downloads\\IR2_data\\zipped_original_files\\triples.tsv', sep='\\t', header=None, nrows=100)\n",
    "df"
   ]
  },
  {
   "cell_type": "code",
   "execution_count": null,
   "metadata": {},
   "outputs": [],
   "source": [
    "# df[1].rename({1: 'qeury'}, axis=1, inplace=True)\n",
    "# df[\"pos_doc\"] = df[4]+\" \"+df[5]\n",
    "# df[\"neg_doc\"] = df[8]+\" \"+df[9]\n",
    "# df"
   ]
  },
  {
   "cell_type": "code",
   "execution_count": null,
   "metadata": {},
   "outputs": [],
   "source": [
    "# df = df[[\"query\",\"pos_doc\",\"neg_doc\"]]\n",
    "# df"
   ]
  },
  {
   "cell_type": "code",
   "execution_count": null,
   "metadata": {},
   "outputs": [],
   "source": [
    "# df.to_csv('triples.train.msmarco.doc.tsv', header=None, index=None, sep='\\t', mode='a')"
   ]
  },
  {
   "cell_type": "code",
   "execution_count": 6,
   "metadata": {},
   "outputs": [
    {
     "name": "stderr",
     "output_type": "stream",
     "text": [
      "364342it [00:36, 10104.34it/s]\n"
     ]
    }
   ],
   "source": [
    "import pandas as pd\n",
    "from tqdm import tqdm\n",
    "# Opening file\n",
    "with open(r'C:\\Users\\qhuca\\Downloads\\IR2_data\\zipped_original_files\\triples.tsv',\"r\",encoding=\"utf8\") as in_file:\n",
    "    with open(r'C:\\Users\\qhuca\\Downloads\\IR2_data\\zipped_original_files\\triples.train.msmarco.doc.tsv',\"w\",encoding=\"utf8\") as out_file:\n",
    "        for line in tqdm(in_file):\n",
    "            ls = line.split(\"\\t\")\n",
    "\n",
    "            if len(ls) == 10:\n",
    "                out_file.write(ls[1]+\"\\t\"+ls[4]+\" \"+ls[5] + \"\\t\"+ls[8]+\" \"+ls[9])\n",
    "                    "
   ]
  },
  {
   "cell_type": "code",
   "execution_count": 7,
   "metadata": {},
   "outputs": [
    {
     "data": {
      "text/html": [
       "<div>\n",
       "<style scoped>\n",
       "    .dataframe tbody tr th:only-of-type {\n",
       "        vertical-align: middle;\n",
       "    }\n",
       "\n",
       "    .dataframe tbody tr th {\n",
       "        vertical-align: top;\n",
       "    }\n",
       "\n",
       "    .dataframe thead th {\n",
       "        text-align: right;\n",
       "    }\n",
       "</style>\n",
       "<table border=\"1\" class=\"dataframe\">\n",
       "  <thead>\n",
       "    <tr style=\"text-align: right;\">\n",
       "      <th></th>\n",
       "      <th>0</th>\n",
       "      <th>1</th>\n",
       "      <th>2</th>\n",
       "    </tr>\n",
       "  </thead>\n",
       "  <tbody>\n",
       "    <tr>\n",
       "      <th>0</th>\n",
       "      <td>)what was the immediate impact of the success ...</td>\n",
       "      <td>Introduction The Manhattan Project Introductio...</td>\n",
       "      <td>. \"THE TRINITY TEST (Trinity Test Site, July 1...</td>\n",
       "    </tr>\n",
       "    <tr>\n",
       "      <th>1</th>\n",
       "      <td>_________ justice is designed to repair the ha...</td>\n",
       "      <td>Restorative justice \"From Wikipedia, the free ...</td>\n",
       "      <td>Programs Services and Specialty Courts Program...</td>\n",
       "    </tr>\n",
       "    <tr>\n",
       "      <th>2</th>\n",
       "      <td>elegxo meaning</td>\n",
       "      <td>The Ministry of the Holy Spirit John, Sermons ...</td>\n",
       "      <td>Swear in Albanian \"Swear in Albanian Posted on...</td>\n",
       "    </tr>\n",
       "    <tr>\n",
       "      <th>3</th>\n",
       "      <td>what does physical medicine do</td>\n",
       "      <td>What Is a Physiatrist? \"Looking for a Physiatr...</td>\n",
       "      <td>. \"Q How long for cat worm medicine to work? H...</td>\n",
       "    </tr>\n",
       "    <tr>\n",
       "      <th>4</th>\n",
       "      <td>feeding rice cereal how many times per day</td>\n",
       "      <td>FEEDING GUIDELINES AGES 4 TO 6 MONTHS \"FEEDING...</td>\n",
       "      <td>How to introduce solid food to your baby \"How ...</td>\n",
       "    </tr>\n",
       "    <tr>\n",
       "      <th>...</th>\n",
       "      <td>...</td>\n",
       "      <td>...</td>\n",
       "      <td>...</td>\n",
       "    </tr>\n",
       "    <tr>\n",
       "      <th>95</th>\n",
       "      <td>is rosemary oil good for back pain?</td>\n",
       "      <td>Aromatherapy Back Pain Aromatherapy Treatment ...</td>\n",
       "      <td>Black Hair Growth Oil \"Black Hair Growth Oil T...</td>\n",
       "    </tr>\n",
       "    <tr>\n",
       "      <th>96</th>\n",
       "      <td>what are setbacks in zoning</td>\n",
       "      <td>Setback (land use) This article is about minim...</td>\n",
       "      <td>FAQs: FREQUENTLY ASKED QUESTIONS FAQs: FREQUEN...</td>\n",
       "    </tr>\n",
       "    <tr>\n",
       "      <th>97</th>\n",
       "      <td>what is a cleric</td>\n",
       "      <td>Cleric \"A person who has been legitimately rec...</td>\n",
       "      <td>Clerical Assistant  in  Dallas, Texas  Salary ...</td>\n",
       "    </tr>\n",
       "    <tr>\n",
       "      <th>98</th>\n",
       "      <td>what files do dvd players read</td>\n",
       "      <td>DVD Formats Explained Main » Did You Know » Ha...</td>\n",
       "      <td>HP laptop dvd player does not eject door HP la...</td>\n",
       "    </tr>\n",
       "    <tr>\n",
       "      <th>99</th>\n",
       "      <td>integrated dna technology</td>\n",
       "      <td>Integrated DNA Technologies \"From Wikipedia, t...</td>\n",
       "      <td>Genome Glossary \"Genome Glossary A glossary of...</td>\n",
       "    </tr>\n",
       "  </tbody>\n",
       "</table>\n",
       "<p>100 rows × 3 columns</p>\n",
       "</div>"
      ],
      "text/plain": [
       "                                                    0  \\\n",
       "0   )what was the immediate impact of the success ...   \n",
       "1   _________ justice is designed to repair the ha...   \n",
       "2                                      elegxo meaning   \n",
       "3                      what does physical medicine do   \n",
       "4          feeding rice cereal how many times per day   \n",
       "..                                                ...   \n",
       "95                is rosemary oil good for back pain?   \n",
       "96                        what are setbacks in zoning   \n",
       "97                                   what is a cleric   \n",
       "98                     what files do dvd players read   \n",
       "99                          integrated dna technology   \n",
       "\n",
       "                                                    1  \\\n",
       "0   Introduction The Manhattan Project Introductio...   \n",
       "1   Restorative justice \"From Wikipedia, the free ...   \n",
       "2   The Ministry of the Holy Spirit John, Sermons ...   \n",
       "3   What Is a Physiatrist? \"Looking for a Physiatr...   \n",
       "4   FEEDING GUIDELINES AGES 4 TO 6 MONTHS \"FEEDING...   \n",
       "..                                                ...   \n",
       "95  Aromatherapy Back Pain Aromatherapy Treatment ...   \n",
       "96  Setback (land use) This article is about minim...   \n",
       "97  Cleric \"A person who has been legitimately rec...   \n",
       "98  DVD Formats Explained Main » Did You Know » Ha...   \n",
       "99  Integrated DNA Technologies \"From Wikipedia, t...   \n",
       "\n",
       "                                                    2  \n",
       "0   . \"THE TRINITY TEST (Trinity Test Site, July 1...  \n",
       "1   Programs Services and Specialty Courts Program...  \n",
       "2   Swear in Albanian \"Swear in Albanian Posted on...  \n",
       "3   . \"Q How long for cat worm medicine to work? H...  \n",
       "4   How to introduce solid food to your baby \"How ...  \n",
       "..                                                ...  \n",
       "95  Black Hair Growth Oil \"Black Hair Growth Oil T...  \n",
       "96  FAQs: FREQUENTLY ASKED QUESTIONS FAQs: FREQUEN...  \n",
       "97  Clerical Assistant  in  Dallas, Texas  Salary ...  \n",
       "98  HP laptop dvd player does not eject door HP la...  \n",
       "99  Genome Glossary \"Genome Glossary A glossary of...  \n",
       "\n",
       "[100 rows x 3 columns]"
      ]
     },
     "execution_count": 7,
     "metadata": {},
     "output_type": "execute_result"
    }
   ],
   "source": [
    "#### sanity check\n",
    "df = pd.read_csv(r'C:\\Users\\qhuca\\Downloads\\IR2_data\\zipped_original_files\\triples.train.msmarco.doc.tsv', sep='\\t', header=None, nrows=100)\n",
    "df"
   ]
  }
 ],
 "metadata": {
  "kernelspec": {
   "display_name": "Python 3",
   "language": "python",
   "name": "python3"
  },
  "language_info": {
   "codemirror_mode": {
    "name": "ipython",
    "version": 3
   },
   "file_extension": ".py",
   "mimetype": "text/x-python",
   "name": "python",
   "nbconvert_exporter": "python",
   "pygments_lexer": "ipython3",
   "version": "3.8.5"
  }
 },
 "nbformat": 4,
 "nbformat_minor": 4
}
